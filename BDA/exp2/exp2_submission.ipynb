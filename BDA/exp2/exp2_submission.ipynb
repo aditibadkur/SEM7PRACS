{
 "cells": [
  {
   "cell_type": "code",
   "execution_count": 143,
   "id": "d6d917b8-347a-4f3f-80d4-48a7a745cada",
   "metadata": {},
   "outputs": [],
   "source": [
    "# pip install \"dask[complete]\""
   ]
  },
  {
   "cell_type": "code",
   "execution_count": 144,
   "id": "3d161658-814c-476f-91bc-7f9a5f4a296f",
   "metadata": {},
   "outputs": [],
   "source": [
    "# pip install dask-ml"
   ]
  },
  {
   "cell_type": "markdown",
   "id": "958cfbc8-094d-49e4-a1fe-362be9cc70d8",
   "metadata": {},
   "source": [
    "Starting Dask Client"
   ]
  },
  {
   "cell_type": "code",
   "execution_count": 145,
   "id": "d310c421-8f67-4437-a474-309bcd34f772",
   "metadata": {},
   "outputs": [
    {
     "name": "stderr",
     "output_type": "stream",
     "text": [
      "C:\\Users\\hp\\AppData\\Roaming\\Python\\Python313\\site-packages\\distributed\\node.py:187: UserWarning: Port 8787 is already in use.\n",
      "Perhaps you already have a cluster running?\n",
      "Hosting the HTTP server on port 51424 instead\n",
      "  warnings.warn(\n"
     ]
    },
    {
     "name": "stdout",
     "output_type": "stream",
     "text": [
      "Dashboard:  http://127.0.0.1:51424/status\n"
     ]
    }
   ],
   "source": [
    "from dask.distributed import Client \n",
    "client = Client() # local Dask Client\n",
    "print(\"Dashboard: \", client.dashboard_link)"
   ]
  },
  {
   "cell_type": "markdown",
   "id": "6849291e-5aef-4738-85af-02a14fa7aa11",
   "metadata": {},
   "source": [
    "Loading Black Friday Dataset w Dask Dataframe"
   ]
  },
  {
   "cell_type": "code",
   "execution_count": 146,
   "id": "8d6e4caf-ae04-4377-beb5-1e5b7bc609e0",
   "metadata": {},
   "outputs": [],
   "source": [
    "import dask.dataframe as dd"
   ]
  },
  {
   "cell_type": "code",
   "execution_count": 147,
   "id": "c3a8630f-bae6-4bc9-9a64-421777f4e3f4",
   "metadata": {},
   "outputs": [],
   "source": [
    "df = dd.read_csv(r\"C:\\Users\\hp\\OneDrive\\Desktop\\SEM7PRACS\\BDA\\exp2\\blackfriday_train.csv\")"
   ]
  },
  {
   "cell_type": "code",
   "execution_count": 148,
   "id": "dbb2e0ac-729c-4a9e-8afa-66d3ee207b86",
   "metadata": {},
   "outputs": [
    {
     "data": {
      "text/html": [
       "<div>\n",
       "<style scoped>\n",
       "    .dataframe tbody tr th:only-of-type {\n",
       "        vertical-align: middle;\n",
       "    }\n",
       "\n",
       "    .dataframe tbody tr th {\n",
       "        vertical-align: top;\n",
       "    }\n",
       "\n",
       "    .dataframe thead th {\n",
       "        text-align: right;\n",
       "    }\n",
       "</style>\n",
       "<table border=\"1\" class=\"dataframe\">\n",
       "  <thead>\n",
       "    <tr style=\"text-align: right;\">\n",
       "      <th></th>\n",
       "      <th>User_ID</th>\n",
       "      <th>Product_ID</th>\n",
       "      <th>Gender</th>\n",
       "      <th>Age</th>\n",
       "      <th>Occupation</th>\n",
       "      <th>City_Category</th>\n",
       "      <th>Stay_In_Current_City_Years</th>\n",
       "      <th>Marital_Status</th>\n",
       "      <th>Product_Category_1</th>\n",
       "      <th>Product_Category_2</th>\n",
       "      <th>Product_Category_3</th>\n",
       "      <th>Purchase</th>\n",
       "    </tr>\n",
       "  </thead>\n",
       "  <tbody>\n",
       "    <tr>\n",
       "      <th>0</th>\n",
       "      <td>1000001</td>\n",
       "      <td>P00069042</td>\n",
       "      <td>F</td>\n",
       "      <td>0-17</td>\n",
       "      <td>10</td>\n",
       "      <td>A</td>\n",
       "      <td>2</td>\n",
       "      <td>0</td>\n",
       "      <td>3</td>\n",
       "      <td>NaN</td>\n",
       "      <td>NaN</td>\n",
       "      <td>8370</td>\n",
       "    </tr>\n",
       "    <tr>\n",
       "      <th>1</th>\n",
       "      <td>1000001</td>\n",
       "      <td>P00248942</td>\n",
       "      <td>F</td>\n",
       "      <td>0-17</td>\n",
       "      <td>10</td>\n",
       "      <td>A</td>\n",
       "      <td>2</td>\n",
       "      <td>0</td>\n",
       "      <td>1</td>\n",
       "      <td>6.0</td>\n",
       "      <td>14.0</td>\n",
       "      <td>15200</td>\n",
       "    </tr>\n",
       "    <tr>\n",
       "      <th>2</th>\n",
       "      <td>1000001</td>\n",
       "      <td>P00087842</td>\n",
       "      <td>F</td>\n",
       "      <td>0-17</td>\n",
       "      <td>10</td>\n",
       "      <td>A</td>\n",
       "      <td>2</td>\n",
       "      <td>0</td>\n",
       "      <td>12</td>\n",
       "      <td>NaN</td>\n",
       "      <td>NaN</td>\n",
       "      <td>1422</td>\n",
       "    </tr>\n",
       "    <tr>\n",
       "      <th>3</th>\n",
       "      <td>1000001</td>\n",
       "      <td>P00085442</td>\n",
       "      <td>F</td>\n",
       "      <td>0-17</td>\n",
       "      <td>10</td>\n",
       "      <td>A</td>\n",
       "      <td>2</td>\n",
       "      <td>0</td>\n",
       "      <td>12</td>\n",
       "      <td>14.0</td>\n",
       "      <td>NaN</td>\n",
       "      <td>1057</td>\n",
       "    </tr>\n",
       "    <tr>\n",
       "      <th>4</th>\n",
       "      <td>1000002</td>\n",
       "      <td>P00285442</td>\n",
       "      <td>M</td>\n",
       "      <td>55+</td>\n",
       "      <td>16</td>\n",
       "      <td>C</td>\n",
       "      <td>4+</td>\n",
       "      <td>0</td>\n",
       "      <td>8</td>\n",
       "      <td>NaN</td>\n",
       "      <td>NaN</td>\n",
       "      <td>7969</td>\n",
       "    </tr>\n",
       "  </tbody>\n",
       "</table>\n",
       "</div>"
      ],
      "text/plain": [
       "   User_ID Product_ID Gender   Age  Occupation City_Category  \\\n",
       "0  1000001  P00069042      F  0-17          10             A   \n",
       "1  1000001  P00248942      F  0-17          10             A   \n",
       "2  1000001  P00087842      F  0-17          10             A   \n",
       "3  1000001  P00085442      F  0-17          10             A   \n",
       "4  1000002  P00285442      M   55+          16             C   \n",
       "\n",
       "  Stay_In_Current_City_Years  Marital_Status  Product_Category_1  \\\n",
       "0                          2               0                   3   \n",
       "1                          2               0                   1   \n",
       "2                          2               0                  12   \n",
       "3                          2               0                  12   \n",
       "4                         4+               0                   8   \n",
       "\n",
       "   Product_Category_2  Product_Category_3  Purchase  \n",
       "0                 NaN                 NaN      8370  \n",
       "1                 6.0                14.0     15200  \n",
       "2                 NaN                 NaN      1422  \n",
       "3                14.0                 NaN      1057  \n",
       "4                 NaN                 NaN      7969  "
      ]
     },
     "execution_count": 148,
     "metadata": {},
     "output_type": "execute_result"
    }
   ],
   "source": [
    "df.head()"
   ]
  },
  {
   "cell_type": "markdown",
   "id": "808cbf35-e27b-4cad-9fed-826e8995f22a",
   "metadata": {},
   "source": [
    "Checking for missing values"
   ]
  },
  {
   "cell_type": "code",
   "execution_count": 149,
   "id": "7cdf869a-7f6a-40fe-b7e4-efe97afa32e9",
   "metadata": {},
   "outputs": [
    {
     "name": "stdout",
     "output_type": "stream",
     "text": [
      "User_ID                            0\n",
      "Product_ID                         0\n",
      "Gender                             0\n",
      "Age                                0\n",
      "Occupation                         0\n",
      "City_Category                      0\n",
      "Stay_In_Current_City_Years         0\n",
      "Marital_Status                     0\n",
      "Product_Category_1                 0\n",
      "Product_Category_2            173638\n",
      "Product_Category_3            383247\n",
      "Purchase                           0\n",
      "dtype: int64\n"
     ]
    }
   ],
   "source": [
    "missing_counts = df.isnull().sum()\n",
    "print(missing_counts.compute())"
   ]
  },
  {
   "cell_type": "markdown",
   "id": "fb0d597e-c518-4119-a315-eeeddb064551",
   "metadata": {},
   "source": [
    "Filling up missing values"
   ]
  },
  {
   "cell_type": "code",
   "execution_count": 150,
   "id": "f000c341-8c5b-4886-8541-dbe22045dd39",
   "metadata": {},
   "outputs": [],
   "source": [
    "df['Product_Category_2'] = df['Product_Category_2'].fillna(0)\n",
    "df['Product_Category_3'] = df['Product_Category_3'].fillna(0)"
   ]
  },
  {
   "cell_type": "markdown",
   "id": "845d0cef-a9bb-4739-95f5-abe0e849ef64",
   "metadata": {},
   "source": [
    "Converting categorical columns into categorical type"
   ]
  },
  {
   "cell_type": "code",
   "execution_count": 151,
   "id": "073b6a33-8664-47c5-86b6-a7ae5ddbb1fb",
   "metadata": {},
   "outputs": [],
   "source": [
    "categorical_cols = ['Gender', 'Age', 'City_Category', 'Stay_In_Current_City_Years']\n",
    "numeric_cols = [col for col in df.columns if col not in categorical_cols + ['Purchase', 'User_ID', 'Product_ID']]"
   ]
  },
  {
   "cell_type": "code",
   "execution_count": 152,
   "id": "e9c75b97-9dca-4910-af8c-57ce315cc582",
   "metadata": {},
   "outputs": [],
   "source": [
    "for col in categorical_cols:\n",
    "    df[col] = df[col].astype('category')"
   ]
  },
  {
   "cell_type": "markdown",
   "id": "117d6b82-fe6b-42cd-9dfa-3dd1c90308ec",
   "metadata": {},
   "source": [
    "Persisting keeps the transformed data in distributed memory for faster later access"
   ]
  },
  {
   "cell_type": "code",
   "execution_count": 153,
   "id": "a721ccc0-9ad2-47e1-96d0-d512c85b29a1",
   "metadata": {},
   "outputs": [],
   "source": [
    "df = df.persist()"
   ]
  },
  {
   "cell_type": "markdown",
   "id": "4ae97a1f-78b1-4298-a24d-a8ce0636c79c",
   "metadata": {},
   "source": [
    "Train-test (80/20)"
   ]
  },
  {
   "cell_type": "code",
   "execution_count": 154,
   "id": "51a822c1-b9ae-42a8-9aa3-d4368a1d498e",
   "metadata": {},
   "outputs": [],
   "source": [
    "from dask_ml.model_selection import train_test_split # works lazily on large datasets"
   ]
  },
  {
   "cell_type": "code",
   "execution_count": 155,
   "id": "a8119574-f46c-4523-a176-e734277bf621",
   "metadata": {},
   "outputs": [],
   "source": [
    "X = df.drop(['Purchase', 'User_ID', 'Product_ID'], axis=1)\n",
    "y = df['Purchase']"
   ]
  },
  {
   "cell_type": "code",
   "execution_count": 156,
   "id": "ae3d6317-b3ae-4b4a-95e0-9350c8945fa5",
   "metadata": {},
   "outputs": [],
   "source": [
    "X_train, X_test, y_train, y_test = train_test_split(X, y, test_size=0.2, random_state=42, shuffle=True)"
   ]
  },
  {
   "cell_type": "code",
   "execution_count": 157,
   "id": "49393bbb-4b65-4969-8546-eabd01232d1c",
   "metadata": {},
   "outputs": [
    {
     "name": "stdout",
     "output_type": "stream",
     "text": [
      "Training set size: 440339\n",
      "Test set size: 109729\n"
     ]
    }
   ],
   "source": [
    "print(f\"Training set size: {len(X_train)}\")\n",
    "print(f\"Test set size: {len(X_test)}\")"
   ]
  },
  {
   "cell_type": "code",
   "execution_count": 158,
   "id": "ed534e9f-f1ec-464f-b85b-6ae201ebfd4e",
   "metadata": {},
   "outputs": [],
   "source": [
    "import dask.array as da"
   ]
  },
  {
   "cell_type": "code",
   "execution_count": 159,
   "id": "f694d577-77a3-42e9-a311-99583aed16d3",
   "metadata": {},
   "outputs": [],
   "source": [
    "# X_train_codes = X_train[categorical_cols].cat.codes.to_dask_array(lengths=True)\n",
    "# X_test_codes = X_test[categorical_cols].cat.codes.to_dask_array(lengths=True)"
   ]
  },
  {
   "cell_type": "markdown",
   "id": "20887c4c-9407-469e-a324-c4d3c90579c4",
   "metadata": {},
   "source": [
    "Code them into integers (One Hot Encoding)"
   ]
  },
  {
   "cell_type": "code",
   "execution_count": 160,
   "id": "92d301bd-71aa-4fdc-92b3-0de120b00f8c",
   "metadata": {},
   "outputs": [],
   "source": [
    "from dask_ml.preprocessing import OneHotEncoder"
   ]
  },
  {
   "cell_type": "code",
   "execution_count": 162,
   "id": "79b94d85-7dcb-4183-8783-f40757091ea2",
   "metadata": {},
   "outputs": [],
   "source": [
    "encoder = OneHotEncoder(sparse_output=False) \n",
    "X_train_cat = encoder.fit_transform(X_train[categorical_cols].categorize())\n",
    "X_test_cat = encoder.transform(X_test[categorical_cols].categorize())\n",
    "# print(f\"Encoded categorical features shape: {X_train_cat.shape}\")"
   ]
  },
  {
   "cell_type": "markdown",
   "id": "17525bb4-ff4e-45ac-8b8f-cc68ec9fc6e6",
   "metadata": {},
   "source": [
    "Combining encoded categorical + numeric features"
   ]
  },
  {
   "cell_type": "code",
   "execution_count": 163,
   "id": "bf7ea32d-8bee-4d0d-bd83-ae29ce1b1f9a",
   "metadata": {},
   "outputs": [
    {
     "name": "stdout",
     "output_type": "stream",
     "text": [
      "Numeric features shape: (440339, 5)\n"
     ]
    }
   ],
   "source": [
    "X_train_num = X_train[numeric_cols].to_dask_array(lengths=True)\n",
    "X_test_num = X_test[numeric_cols].to_dask_array(lengths=True)\n",
    "print(f\"Numeric features shape: {X_train_num.shape}\")"
   ]
  },
  {
   "cell_type": "code",
   "execution_count": 164,
   "id": "5143db16-a3fd-4af2-8589-12ad10ebda08",
   "metadata": {},
   "outputs": [
    {
     "ename": "ValueError",
     "evalue": "('Shapes do not align: %s', [(440339, 5), (nan, 17)])",
     "output_type": "error",
     "traceback": [
      "\u001b[31m---------------------------------------------------------------------------\u001b[39m",
      "\u001b[31mValueError\u001b[39m                                Traceback (most recent call last)",
      "\u001b[36mCell\u001b[39m\u001b[36m \u001b[39m\u001b[32mIn[164]\u001b[39m\u001b[32m, line 1\u001b[39m\n\u001b[32m----> \u001b[39m\u001b[32m1\u001b[39m X_train_da = \u001b[43mda\u001b[49m\u001b[43m.\u001b[49m\u001b[43mhstack\u001b[49m\u001b[43m(\u001b[49m\u001b[43m[\u001b[49m\u001b[43mX_train_num\u001b[49m\u001b[43m,\u001b[49m\u001b[43m \u001b[49m\u001b[43mX_train_cat\u001b[49m\u001b[43m]\u001b[49m\u001b[43m)\u001b[49m\n\u001b[32m      2\u001b[39m X_test_da = da.hstack([X_test_num, X_test_cat])\n",
      "\u001b[36mFile \u001b[39m\u001b[32m~\\AppData\\Roaming\\Python\\Python313\\site-packages\\dask\\array\\routines.py:153\u001b[39m, in \u001b[36mhstack\u001b[39m\u001b[34m(tup, allow_unknown_chunksizes)\u001b[39m\n\u001b[32m    149\u001b[39m     \u001b[38;5;28;01mreturn\u001b[39;00m concatenate(\n\u001b[32m    150\u001b[39m         tup, axis=\u001b[32m0\u001b[39m, allow_unknown_chunksizes=allow_unknown_chunksizes\n\u001b[32m    151\u001b[39m     )\n\u001b[32m    152\u001b[39m \u001b[38;5;28;01melse\u001b[39;00m:\n\u001b[32m--> \u001b[39m\u001b[32m153\u001b[39m     \u001b[38;5;28;01mreturn\u001b[39;00m \u001b[43mconcatenate\u001b[49m\u001b[43m(\u001b[49m\n\u001b[32m    154\u001b[39m \u001b[43m        \u001b[49m\u001b[43mtup\u001b[49m\u001b[43m,\u001b[49m\u001b[43m \u001b[49m\u001b[43maxis\u001b[49m\u001b[43m=\u001b[49m\u001b[32;43m1\u001b[39;49m\u001b[43m,\u001b[49m\u001b[43m \u001b[49m\u001b[43mallow_unknown_chunksizes\u001b[49m\u001b[43m=\u001b[49m\u001b[43mallow_unknown_chunksizes\u001b[49m\n\u001b[32m    155\u001b[39m \u001b[43m    \u001b[49m\u001b[43m)\u001b[49m\n",
      "\u001b[36mFile \u001b[39m\u001b[32m~\\AppData\\Roaming\\Python\\Python313\\site-packages\\dask\\array\\core.py:4528\u001b[39m, in \u001b[36mconcatenate\u001b[39m\u001b[34m(seq, axis, allow_unknown_chunksizes)\u001b[39m\n\u001b[32m   4519\u001b[39m     \u001b[38;5;28;01mif\u001b[39;00m \u001b[38;5;28many\u001b[39m(\u001b[38;5;28mmap\u001b[39m(np.isnan, seq2[\u001b[32m0\u001b[39m].shape)):\n\u001b[32m   4520\u001b[39m         \u001b[38;5;28;01mraise\u001b[39;00m \u001b[38;5;167;01mValueError\u001b[39;00m(\n\u001b[32m   4521\u001b[39m             \u001b[33m\"\u001b[39m\u001b[33mTried to concatenate arrays with unknown\u001b[39m\u001b[33m\"\u001b[39m\n\u001b[32m   4522\u001b[39m             \u001b[33m\"\u001b[39m\u001b[33m shape \u001b[39m\u001b[38;5;132;01m%s\u001b[39;00m\u001b[33m.\u001b[39m\u001b[38;5;130;01m\\n\u001b[39;00m\u001b[38;5;130;01m\\n\u001b[39;00m\u001b[33mTwo solutions:\u001b[39m\u001b[38;5;130;01m\\n\u001b[39;00m\u001b[33m\"\u001b[39m\n\u001b[32m   (...)\u001b[39m\u001b[32m   4526\u001b[39m             \u001b[33m\"\u001b[39m\u001b[33m[x.compute_chunk_sizes() for x in seq]\u001b[39m\u001b[33m\"\u001b[39m % \u001b[38;5;28mstr\u001b[39m(seq2[\u001b[32m0\u001b[39m].shape)\n\u001b[32m   4527\u001b[39m         )\n\u001b[32m-> \u001b[39m\u001b[32m4528\u001b[39m     \u001b[38;5;28;01mraise\u001b[39;00m \u001b[38;5;167;01mValueError\u001b[39;00m(\u001b[33m\"\u001b[39m\u001b[33mShapes do not align: \u001b[39m\u001b[38;5;132;01m%s\u001b[39;00m\u001b[33m\"\u001b[39m, [x.shape \u001b[38;5;28;01mfor\u001b[39;00m x \u001b[38;5;129;01min\u001b[39;00m seq2])\n\u001b[32m   4530\u001b[39m inds = [\u001b[38;5;28mlist\u001b[39m(\u001b[38;5;28mrange\u001b[39m(ndim)) \u001b[38;5;28;01mfor\u001b[39;00m i \u001b[38;5;129;01min\u001b[39;00m \u001b[38;5;28mrange\u001b[39m(n)]\n\u001b[32m   4531\u001b[39m \u001b[38;5;28;01mfor\u001b[39;00m i, ind \u001b[38;5;129;01min\u001b[39;00m \u001b[38;5;28menumerate\u001b[39m(inds):\n",
      "\u001b[31mValueError\u001b[39m: ('Shapes do not align: %s', [(440339, 5), (nan, 17)])"
     ]
    }
   ],
   "source": [
    "X_train_da = da.hstack([X_train_num, X_train_cat])\n",
    "X_test_da = da.hstack([X_test_num, X_test_cat])"
   ]
  },
  {
   "cell_type": "code",
   "execution_count": 165,
   "id": "3767b408-2d12-4738-a8d3-8251e0f8b6ce",
   "metadata": {},
   "outputs": [
    {
     "ename": "NameError",
     "evalue": "name 'X_train_da' is not defined",
     "output_type": "error",
     "traceback": [
      "\u001b[31m---------------------------------------------------------------------------\u001b[39m",
      "\u001b[31mNameError\u001b[39m                                 Traceback (most recent call last)",
      "\u001b[36mCell\u001b[39m\u001b[36m \u001b[39m\u001b[32mIn[165]\u001b[39m\u001b[32m, line 4\u001b[39m\n\u001b[32m      1\u001b[39m y_train_da = y_train.to_dask_array(lengths=\u001b[38;5;28;01mTrue\u001b[39;00m)\n\u001b[32m      2\u001b[39m y_test_da = y_test.to_dask_array(lengths=\u001b[38;5;28;01mTrue\u001b[39;00m)\n\u001b[32m----> \u001b[39m\u001b[32m4\u001b[39m \u001b[38;5;28mprint\u001b[39m(\u001b[33mf\u001b[39m\u001b[33m\"\u001b[39m\u001b[33mFinal training features shape: \u001b[39m\u001b[38;5;132;01m{\u001b[39;00m\u001b[43mX_train_da\u001b[49m.shape\u001b[38;5;132;01m}\u001b[39;00m\u001b[33m\"\u001b[39m)\n\u001b[32m      5\u001b[39m \u001b[38;5;28mprint\u001b[39m(\u001b[33mf\u001b[39m\u001b[33m\"\u001b[39m\u001b[33mFinal test features shape: \u001b[39m\u001b[38;5;132;01m{\u001b[39;00mX_test_da.shape\u001b[38;5;132;01m}\u001b[39;00m\u001b[33m\"\u001b[39m)\n",
      "\u001b[31mNameError\u001b[39m: name 'X_train_da' is not defined"
     ]
    }
   ],
   "source": [
    "y_train_da = y_train.to_dask_array(lengths=True)\n",
    "y_test_da = y_test.to_dask_array(lengths=True)\n",
    "\n",
    "print(f\"Final training features shape: {X_train_da.shape}\")\n",
    "print(f\"Final test features shape: {X_test_da.shape}\")"
   ]
  },
  {
   "cell_type": "markdown",
   "id": "d1372885-5064-4ad4-b302-7cfb77978d86",
   "metadata": {},
   "source": [
    "Converting dataframes to Dask arrays for compatibility with Dask ML models"
   ]
  },
  {
   "cell_type": "code",
   "execution_count": null,
   "id": "c861e53c-b46a-42cc-861a-6539e1eddb7b",
   "metadata": {},
   "outputs": [],
   "source": [
    "# from dask_ml import preprocessing\n",
    "# import dask.array as da"
   ]
  },
  {
   "cell_type": "code",
   "execution_count": null,
   "id": "5266c0a8-c8bd-4cce-a6a5-9e0933aba397",
   "metadata": {},
   "outputs": [],
   "source": [
    "# X_train_da = X_train.to_dask_array(lengths=True)\n",
    "# X_test_da = X_test.to_dask_array(lengths=True)\n",
    "# y_train_da = y_train.to_dask_array(lengths=True)\n",
    "# y_test_da = y_test.to_dask_array(lengths=True)"
   ]
  },
  {
   "cell_type": "markdown",
   "id": "3d53df3d-b2e3-417f-9da3-e7a634a9b515",
   "metadata": {},
   "source": [
    "Train Linear Regression model"
   ]
  },
  {
   "cell_type": "code",
   "execution_count": null,
   "id": "1fb24e8d-7401-4dbb-9a65-f334cde44afc",
   "metadata": {},
   "outputs": [],
   "source": [
    "from dask_ml.linear_model import LinearRegression"
   ]
  },
  {
   "cell_type": "code",
   "execution_count": null,
   "id": "9fd8c823-144f-4190-a3b7-5931006564a6",
   "metadata": {},
   "outputs": [],
   "source": [
    "model = LinearRegression()\n",
    "model.fit(X_train_da, y_train_da)"
   ]
  },
  {
   "cell_type": "markdown",
   "id": "e96d3866-6a3d-4967-a3e6-99672a20b992",
   "metadata": {},
   "source": [
    "Predictions"
   ]
  },
  {
   "cell_type": "code",
   "execution_count": null,
   "id": "ede22bbe-486e-4f71-b9df-0d5ea84a68b8",
   "metadata": {},
   "outputs": [],
   "source": [
    "y_pred_da = model.predict(X_test_da)"
   ]
  },
  {
   "cell_type": "markdown",
   "id": "e00fd576-847b-4aff-a635-cdd052acd3e7",
   "metadata": {},
   "source": [
    "R2 score"
   ]
  },
  {
   "cell_type": "code",
   "execution_count": null,
   "id": "1e6b88b8-fea5-43d8-8750-3c27a3340146",
   "metadata": {},
   "outputs": [],
   "source": [
    "from sklearn.metrics import r2_score"
   ]
  },
  {
   "cell_type": "code",
   "execution_count": null,
   "id": "a38d5741-1ce9-4a7c-8feb-8f1372bec7f1",
   "metadata": {},
   "outputs": [],
   "source": [
    "# Converting Dask arrays to NumPy for sklearn\n",
    "y_pred_np = y_pred_da.compute()\n",
    "y_test_np = y_test_da.compute()\n",
    "r2 = r2_score(y_test_np, y_pred_np)"
   ]
  },
  {
   "cell_type": "code",
   "execution_count": null,
   "id": "5a016a9d-33f9-484b-b7dd-1b7bc37c1932",
   "metadata": {},
   "outputs": [],
   "source": [
    "print(\"R² score:\", r2)"
   ]
  },
  {
   "cell_type": "code",
   "execution_count": null,
   "id": "6e271b5c-f33f-4770-9aab-93311ab7777e",
   "metadata": {},
   "outputs": [],
   "source": [
    "print(f\"\\nDask Dashboard was available at: {client.dashboard_link}\")\n",
    "client.close() # to prevent the port being open forever\n",
    "print(\"Dask client closed successfully!\")"
   ]
  },
  {
   "cell_type": "code",
   "execution_count": null,
   "id": "df6ccf45-1831-4447-97a1-0bc1115f66cc",
   "metadata": {},
   "outputs": [],
   "source": [
    "# hwhe"
   ]
  },
  {
   "cell_type": "code",
   "execution_count": null,
   "id": "5e406a74-c6a0-40b3-8840-82e3ca86f5fb",
   "metadata": {},
   "outputs": [],
   "source": []
  }
 ],
 "metadata": {
  "kernelspec": {
   "display_name": "Python 3 (ipykernel)",
   "language": "python",
   "name": "python3"
  },
  "language_info": {
   "codemirror_mode": {
    "name": "ipython",
    "version": 3
   },
   "file_extension": ".py",
   "mimetype": "text/x-python",
   "name": "python",
   "nbconvert_exporter": "python",
   "pygments_lexer": "ipython3",
   "version": "3.13.1"
  }
 },
 "nbformat": 4,
 "nbformat_minor": 5
}
